{
 "cells": [
  {
   "cell_type": "code",
   "execution_count": 1,
   "metadata": {},
   "outputs": [
    {
     "name": "stderr",
     "output_type": "stream",
     "text": [
      "Using TensorFlow backend.\n"
     ]
    }
   ],
   "source": [
    "import numpy as np\n",
    "import matplotlib.pyplot as plt\n",
    "import keras"
   ]
  },
  {
   "cell_type": "code",
   "execution_count": 2,
   "metadata": {},
   "outputs": [],
   "source": [
    "from keras.datasets import fashion_mnist"
   ]
  },
  {
   "cell_type": "code",
   "execution_count": 3,
   "metadata": {},
   "outputs": [],
   "source": [
    "from keras.models import Sequential\n",
    "from keras.layers import Dense\n",
    "from keras.optimizers import Adam\n",
    "from keras.utils.np_utils import to_categorical\n",
    "import random"
   ]
  },
  {
   "cell_type": "code",
   "execution_count": 4,
   "metadata": {},
   "outputs": [],
   "source": [
    "(X_train, y_train), (X_test, y_test) = fashion_mnist.load_data()\n"
   ]
  },
  {
   "cell_type": "code",
   "execution_count": 5,
   "metadata": {},
   "outputs": [
    {
     "name": "stdout",
     "output_type": "stream",
     "text": [
      "(60000, 28, 28)\n"
     ]
    }
   ],
   "source": [
    "print(X_train.shape)"
   ]
  },
  {
   "cell_type": "code",
   "execution_count": 6,
   "metadata": {},
   "outputs": [
    {
     "name": "stdout",
     "output_type": "stream",
     "text": [
      "(10000, 28, 28)\n"
     ]
    }
   ],
   "source": [
    "print(X_test.shape)"
   ]
  },
  {
   "cell_type": "code",
   "execution_count": 7,
   "metadata": {},
   "outputs": [],
   "source": [
    "y_train = to_categorical(y_train, 10)\n",
    "y_test = to_categorical(y_test, 10)\n",
    "\n",
    "X_train = X_train/255\n",
    "X_test = X_test/255\n"
   ]
  },
  {
   "cell_type": "code",
   "execution_count": 8,
   "metadata": {},
   "outputs": [],
   "source": [
    "num_pixels=784\n",
    "num_classes=10"
   ]
  },
  {
   "cell_type": "code",
   "execution_count": 9,
   "metadata": {},
   "outputs": [
    {
     "name": "stdout",
     "output_type": "stream",
     "text": [
      "(60000, 784)\n",
      "(10000, 784)\n"
     ]
    }
   ],
   "source": [
    "X_train = X_train.reshape(X_train.shape[0], 784)\n",
    "X_test = X_test.reshape(X_test.shape[0], 784)\n",
    "print(X_train.shape)\n",
    "print(X_test.shape)"
   ]
  },
  {
   "cell_type": "code",
   "execution_count": 10,
   "metadata": {},
   "outputs": [],
   "source": [
    "def create_model():\n",
    "    model = Sequential()\n",
    "    model.add(Dense(num_pixels, input_dim = num_pixels, activation = 'relu'))\n",
    "    model.add(Dense(num_pixels, activation = 'relu'))\n",
    "    model.add(Dense(num_classes, activation = 'softmax'))\n",
    "    model.compile(Adam(lr=0.01), loss = 'categorical_crossentropy', metrics =['accuracy'])\n",
    "    return model\n"
   ]
  },
  {
   "cell_type": "code",
   "execution_count": 11,
   "metadata": {},
   "outputs": [
    {
     "name": "stdout",
     "output_type": "stream",
     "text": [
      "Model: \"sequential_1\"\n",
      "_________________________________________________________________\n",
      "Layer (type)                 Output Shape              Param #   \n",
      "=================================================================\n",
      "dense_1 (Dense)              (None, 784)               615440    \n",
      "_________________________________________________________________\n",
      "dense_2 (Dense)              (None, 784)               615440    \n",
      "_________________________________________________________________\n",
      "dense_3 (Dense)              (None, 10)                7850      \n",
      "=================================================================\n",
      "Total params: 1,238,730\n",
      "Trainable params: 1,238,730\n",
      "Non-trainable params: 0\n",
      "_________________________________________________________________\n",
      "None\n"
     ]
    }
   ],
   "source": [
    "model = create_model()\n",
    "print(model.summary())"
   ]
  },
  {
   "cell_type": "code",
   "execution_count": 12,
   "metadata": {},
   "outputs": [
    {
     "name": "stdout",
     "output_type": "stream",
     "text": [
      "WARNING:tensorflow:From C:\\Users\\DELL\\Anaconda3\\lib\\site-packages\\keras\\backend\\tensorflow_backend.py:422: The name tf.global_variables is deprecated. Please use tf.compat.v1.global_variables instead.\n",
      "\n",
      "Train on 54000 samples, validate on 6000 samples\n",
      "Epoch 1/25\n",
      "54000/54000 [==============================] - 8s 150us/step - loss: 0.7470 - accuracy: 0.7787 - val_loss: 0.4700 - val_accuracy: 0.8167\n",
      "Epoch 2/25\n",
      "54000/54000 [==============================] - 8s 150us/step - loss: 0.4120 - accuracy: 0.8511 - val_loss: 0.4429 - val_accuracy: 0.8380\n",
      "Epoch 3/25\n",
      "54000/54000 [==============================] - 8s 150us/step - loss: 0.3853 - accuracy: 0.8584 - val_loss: 0.3873 - val_accuracy: 0.8540\n",
      "Epoch 4/25\n",
      "54000/54000 [==============================] - 8s 155us/step - loss: 0.3696 - accuracy: 0.8670 - val_loss: 0.3849 - val_accuracy: 0.8595\n",
      "Epoch 5/25\n",
      "54000/54000 [==============================] - 8s 149us/step - loss: 0.3582 - accuracy: 0.8698 - val_loss: 0.3984 - val_accuracy: 0.8603\n",
      "Epoch 6/25\n",
      "54000/54000 [==============================] - 8s 155us/step - loss: 0.3495 - accuracy: 0.8724 - val_loss: 0.3806 - val_accuracy: 0.8680\n",
      "Epoch 7/25\n",
      "54000/54000 [==============================] - 8s 148us/step - loss: 0.3470 - accuracy: 0.8728 - val_loss: 0.4004 - val_accuracy: 0.8502\n",
      "Epoch 8/25\n",
      "54000/54000 [==============================] - 9s 158us/step - loss: 0.3309 - accuracy: 0.8773 - val_loss: 0.3831 - val_accuracy: 0.8647\n",
      "Epoch 9/25\n",
      "54000/54000 [==============================] - 8s 150us/step - loss: 0.3231 - accuracy: 0.8793 - val_loss: 0.3777 - val_accuracy: 0.8678\n",
      "Epoch 10/25\n",
      "54000/54000 [==============================] - 9s 158us/step - loss: 0.3265 - accuracy: 0.8798 - val_loss: 0.3925 - val_accuracy: 0.8618\n",
      "Epoch 11/25\n",
      "54000/54000 [==============================] - 9s 160us/step - loss: 0.3152 - accuracy: 0.8839 - val_loss: 0.4222 - val_accuracy: 0.8598\n",
      "Epoch 12/25\n",
      "54000/54000 [==============================] - 9s 159us/step - loss: 0.3178 - accuracy: 0.8835 - val_loss: 0.4161 - val_accuracy: 0.8610\n",
      "Epoch 13/25\n",
      "54000/54000 [==============================] - 9s 160us/step - loss: 0.3115 - accuracy: 0.8848 - val_loss: 0.3635 - val_accuracy: 0.8707\n",
      "Epoch 14/25\n",
      "54000/54000 [==============================] - 9s 164us/step - loss: 0.3165 - accuracy: 0.8833 - val_loss: 0.3641 - val_accuracy: 0.8785\n",
      "Epoch 15/25\n",
      "54000/54000 [==============================] - 9s 163us/step - loss: 0.3050 - accuracy: 0.8877 - val_loss: 0.3766 - val_accuracy: 0.8702\n",
      "Epoch 16/25\n",
      "54000/54000 [==============================] - 10s 181us/step - loss: 0.2978 - accuracy: 0.8900 - val_loss: 0.3671 - val_accuracy: 0.8710\n",
      "Epoch 17/25\n",
      "54000/54000 [==============================] - 10s 178us/step - loss: 0.3014 - accuracy: 0.8886 - val_loss: 0.3973 - val_accuracy: 0.8647\n",
      "Epoch 18/25\n",
      "54000/54000 [==============================] - 9s 173us/step - loss: 0.2983 - accuracy: 0.8896 - val_loss: 0.3691 - val_accuracy: 0.8723\n",
      "Epoch 19/25\n",
      "54000/54000 [==============================] - 10s 177us/step - loss: 0.2957 - accuracy: 0.8892 - val_loss: 0.4186 - val_accuracy: 0.8582\n",
      "Epoch 20/25\n",
      "54000/54000 [==============================] - 9s 158us/step - loss: 0.2951 - accuracy: 0.8920 - val_loss: 0.3980 - val_accuracy: 0.8710\n",
      "Epoch 21/25\n",
      "54000/54000 [==============================] - 8s 152us/step - loss: 0.2954 - accuracy: 0.8897 - val_loss: 0.3964 - val_accuracy: 0.8673\n",
      "Epoch 22/25\n",
      "54000/54000 [==============================] - 8s 144us/step - loss: 0.2836 - accuracy: 0.8934 - val_loss: 0.4017 - val_accuracy: 0.8723\n",
      "Epoch 23/25\n",
      "54000/54000 [==============================] - 8s 153us/step - loss: 0.2855 - accuracy: 0.8955 - val_loss: 0.3718 - val_accuracy: 0.8753\n",
      "Epoch 24/25\n",
      "54000/54000 [==============================] - 8s 147us/step - loss: 0.2811 - accuracy: 0.8958 - val_loss: 0.3835 - val_accuracy: 0.8703\n",
      "Epoch 25/25\n",
      "54000/54000 [==============================] - 9s 159us/step - loss: 0.2800 - accuracy: 0.8966 - val_loss: 0.3773 - val_accuracy: 0.8677\n"
     ]
    }
   ],
   "source": [
    "history = model.fit(X_train, y_train, validation_split = 0.1, epochs = 25, batch_size = 200, verbose = 1, shuffle =1)\n"
   ]
  },
  {
   "cell_type": "code",
   "execution_count": 14,
   "metadata": {},
   "outputs": [
    {
     "ename": "KeyError",
     "evalue": "'val_acc'",
     "output_type": "error",
     "traceback": [
      "\u001b[1;31m---------------------------------------------------------------------------\u001b[0m",
      "\u001b[1;31mKeyError\u001b[0m                                  Traceback (most recent call last)",
      "\u001b[1;32m<ipython-input-14-58ab68715fe3>\u001b[0m in \u001b[0;36m<module>\u001b[1;34m\u001b[0m\n\u001b[0;32m      2\u001b[0m \u001b[0mplt\u001b[0m\u001b[1;33m.\u001b[0m\u001b[0mplot\u001b[0m\u001b[1;33m(\u001b[0m\u001b[0mhistory\u001b[0m\u001b[1;33m.\u001b[0m\u001b[0mhistory\u001b[0m\u001b[1;33m[\u001b[0m\u001b[1;34m'val_loss'\u001b[0m\u001b[1;33m]\u001b[0m\u001b[1;33m)\u001b[0m\u001b[1;33m\u001b[0m\u001b[1;33m\u001b[0m\u001b[0m\n\u001b[0;32m      3\u001b[0m \u001b[0mplt\u001b[0m\u001b[1;33m.\u001b[0m\u001b[0mplot\u001b[0m\u001b[1;33m(\u001b[0m\u001b[0mhistory\u001b[0m\u001b[1;33m.\u001b[0m\u001b[0mhistory\u001b[0m\u001b[1;33m[\u001b[0m\u001b[1;34m'accuracy'\u001b[0m\u001b[1;33m]\u001b[0m\u001b[1;33m)\u001b[0m\u001b[1;33m\u001b[0m\u001b[1;33m\u001b[0m\u001b[0m\n\u001b[1;32m----> 4\u001b[1;33m \u001b[0mplt\u001b[0m\u001b[1;33m.\u001b[0m\u001b[0mplot\u001b[0m\u001b[1;33m(\u001b[0m\u001b[0mhistory\u001b[0m\u001b[1;33m.\u001b[0m\u001b[0mhistory\u001b[0m\u001b[1;33m[\u001b[0m\u001b[1;34m'val_acc'\u001b[0m\u001b[1;33m]\u001b[0m\u001b[1;33m)\u001b[0m\u001b[1;33m\u001b[0m\u001b[1;33m\u001b[0m\u001b[0m\n\u001b[0m\u001b[0;32m      5\u001b[0m \u001b[0mplt\u001b[0m\u001b[1;33m.\u001b[0m\u001b[0mlegend\u001b[0m\u001b[1;33m(\u001b[0m\u001b[1;33m[\u001b[0m\u001b[1;34m'loss'\u001b[0m\u001b[1;33m,\u001b[0m \u001b[1;34m'val_loss'\u001b[0m\u001b[1;33m,\u001b[0m \u001b[1;34m'accuracy'\u001b[0m\u001b[1;33m,\u001b[0m \u001b[1;34m'val_acc'\u001b[0m\u001b[1;33m]\u001b[0m\u001b[1;33m)\u001b[0m\u001b[1;33m\u001b[0m\u001b[1;33m\u001b[0m\u001b[0m\n\u001b[0;32m      6\u001b[0m \u001b[0mplt\u001b[0m\u001b[1;33m.\u001b[0m\u001b[0mtitle\u001b[0m\u001b[1;33m(\u001b[0m\u001b[1;34m'Loss & Accuracy'\u001b[0m\u001b[1;33m)\u001b[0m\u001b[1;33m\u001b[0m\u001b[1;33m\u001b[0m\u001b[0m\n",
      "\u001b[1;31mKeyError\u001b[0m: 'val_acc'"
     ]
    },
    {
     "data": {
      "image/png": "[encoded data removed]",
      "text/plain": [
       "<Figure size 432x288 with 1 Axes>"
      ]
     },
     "metadata": {
      "needs_background": "light"
     },
     "output_type": "display_data"
    }
   ],
   "source": [
    "plt.plot(history.history['loss'])\n",
    "plt.plot(history.history['val_loss'])\n",
    "plt.plot(history.history['accuracy'])\n",
    "plt.plot(history.history['val_acc'])\n",
    "plt.legend(['loss', 'val_loss', 'accuracy', 'val_acc'])\n",
    "plt.title('Loss & Accuracy')\n",
    "plt.xlabel('epoch')\n"
   ]
  },
  {
   "cell_type": "code",
   "execution_count": 15,
   "metadata": {
    "scrolled": true
   },
   "outputs": [
    {
     "name": "stdout",
     "output_type": "stream",
     "text": [
      "<class 'list'>\n",
      "Test Score: 0.3976227795600891\n",
      "['Test Accuracy:', 0.8646000027656555]\n"
     ]
    }
   ],
   "source": [
    "score = model.evaluate(X_test, y_test, verbose = 0)\n",
    "print(type(score))\n",
    "print('Test Score:', score[0])\n",
    "print(['Test Accuracy:', score[1]])"
   ]
  },
  {
   "cell_type": "code",
   "execution_count": 16,
   "metadata": {},
   "outputs": [],
   "source": [
    "import cv2\n",
    "import imageio"
   ]
  },
  {
   "cell_type": "code",
   "execution_count": 29,
   "metadata": {},
   "outputs": [],
   "source": [
    "im1 = imageio.imread('image.jpg')"
   ]
  },
  {
   "cell_type": "code",
   "execution_count": 30,
   "metadata": {},
   "outputs": [],
   "source": [
    "im1 = cv2.resize(im1, (28, 28))\n",
    "im1 = cv2.cvtColor(im1, cv2.COLOR_BGR2GRAY)"
   ]
  },
  {
   "cell_type": "code",
   "execution_count": 31,
   "metadata": {},
   "outputs": [
    {
     "data": {
      "text/plain": [
       "<matplotlib.image.AxesImage at 0x1c6be8f0e10>"
      ]
     },
     "execution_count": 31,
     "metadata": {},
     "output_type": "execute_result"
    },
    {
     "data": {
      "image/png": "[encoded data removed]",
      "text/plain": [
       "<Figure size 432x288 with 1 Axes>"
      ]
     },
     "metadata": {
      "needs_background": "light"
     },
     "output_type": "display_data"
    }
   ],
   "source": [
    "plt.imshow(im1, cmap = 'gray')"
   ]
  },
  {
   "cell_type": "code",
   "execution_count": 32,
   "metadata": {},
   "outputs": [
    {
     "data": {
      "text/plain": [
       "<matplotlib.image.AxesImage at 0x1c6be968400>"
      ]
     },
     "execution_count": 32,
     "metadata": {},
     "output_type": "execute_result"
    },
    {
     "data": {
      "image/png": "[encoded data removed]",
      "text/plain": [
       "<Figure size 432x288 with 1 Axes>"
      ]
     },
     "metadata": {
      "needs_background": "light"
     },
     "output_type": "display_data"
    }
   ],
   "source": [
    "image = cv2.bitwise_not(im1)\n",
    "plt.imshow(image, cmap = 'gray')\n"
   ]
  },
  {
   "cell_type": "code",
   "execution_count": 33,
   "metadata": {},
   "outputs": [],
   "source": [
    "image = image/255\n",
    "image = image.reshape(1, 784)\n"
   ]
  },
  {
   "cell_type": "code",
   "execution_count": 34,
   "metadata": {},
   "outputs": [
    {
     "name": "stdout",
     "output_type": "stream",
     "text": [
      "[1]\n"
     ]
    }
   ],
   "source": [
    "prediction = model.predict_classes(image)\n",
    "print(str(prediction))"
   ]
  },
  {
   "cell_type": "code",
   "execution_count": null,
   "metadata": {},
   "outputs": [],
   "source": []
  }
 ],
 "metadata": {
  "kernelspec": {
   "display_name": "Python 3",
   "language": "python",
   "name": "python3"
  },
  "language_info": {
   "codemirror_mode": {
    "name": "ipython",
    "version": 3
   },
   "file_extension": ".py",
   "mimetype": "text/x-python",
   "name": "python",
   "nbconvert_exporter": "python",
   "pygments_lexer": "ipython3",
   "version": "3.7.3"
  }
 },
 "nbformat": 4,
 "nbformat_minor": 2
}
